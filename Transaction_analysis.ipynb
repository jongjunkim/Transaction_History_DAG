{
  "nbformat": 4,
  "nbformat_minor": 0,
  "metadata": {
    "colab": {
      "provenance": [],
      "authorship_tag": "ABX9TyOifc+A1yV0qgzl86L2HU5R",
      "include_colab_link": true
    },
    "kernelspec": {
      "name": "python3",
      "display_name": "Python 3"
    },
    "language_info": {
      "name": "python"
    }
  },
  "cells": [
    {
      "cell_type": "markdown",
      "metadata": {
        "id": "view-in-github",
        "colab_type": "text"
      },
      "source": [
        "<a href=\"https://colab.research.google.com/github/jongjunkim/Transaction_History_DAG/blob/main/Transaction_analysis_ipynb%EC%9D%98_%EC%82%AC%EB%B3%B8.ipynb\" target=\"_parent\"><img src=\"https://colab.research.google.com/assets/colab-badge.svg\" alt=\"Open In Colab\"/></a>"
      ]
    },
    {
      "cell_type": "code",
      "execution_count": null,
      "metadata": {
        "id": "PNW1gUdwbZ0F"
      },
      "outputs": [],
      "source": [
        "!pip install pyspark==3.3.1 py4j==0.10.9.5"
      ]
    },
    {
      "cell_type": "code",
      "source": [
        "!wget https://jongjun.s3.us-east-2.amazonaws.com/transaction_history.csv"
      ],
      "metadata": {
        "colab": {
          "base_uri": "https://localhost:8080/"
        },
        "id": "BbJeJWHJdKPX",
        "outputId": "b8ef79e4-06fe-4255-e70e-e33f1da783c8"
      },
      "execution_count": null,
      "outputs": [
        {
          "output_type": "stream",
          "name": "stdout",
          "text": [
            "--2023-11-15 19:28:45--  https://jongjun.s3.us-east-2.amazonaws.com/transaction_history.csv\n",
            "Resolving jongjun.s3.us-east-2.amazonaws.com (jongjun.s3.us-east-2.amazonaws.com)... 52.219.109.138, 3.5.130.120, 3.5.131.121, ...\n",
            "Connecting to jongjun.s3.us-east-2.amazonaws.com (jongjun.s3.us-east-2.amazonaws.com)|52.219.109.138|:443... connected.\n",
            "HTTP request sent, awaiting response... 200 OK\n",
            "Length: 44491 (43K) [binary/octet-stream]\n",
            "Saving to: ‘transaction_history.csv’\n",
            "\n",
            "transaction_history 100%[===================>]  43.45K  --.-KB/s    in 0.06s   \n",
            "\n",
            "2023-11-15 19:28:45 (703 KB/s) - ‘transaction_history.csv’ saved [44491/44491]\n",
            "\n"
          ]
        }
      ]
    },
    {
      "cell_type": "code",
      "source": [
        "from pyspark.sql import SparkSession\n",
        "from pyspark import SparkConf\n",
        "\n",
        "conf = SparkConf()\n",
        "conf.set(\"spark.app.name\", \"PySpark DataFrame #1\")\n",
        "conf.set(\"spark.master\", \"local[*]\")\n",
        "\n",
        "spark = SparkSession.builder\\\n",
        "        .config(conf=conf)\\\n",
        "        .getOrCreate()"
      ],
      "metadata": {
        "id": "SYgxJ4F2dVjY"
      },
      "execution_count": null,
      "outputs": []
    },
    {
      "cell_type": "code",
      "source": [
        "df = spark.read.format(\"text\").load(\"transaction_history.csv\")"
      ],
      "metadata": {
        "id": "hIDDxTzhdeCv"
      },
      "execution_count": null,
      "outputs": []
    },
    {
      "cell_type": "code",
      "source": [
        "df.show()"
      ],
      "metadata": {
        "colab": {
          "base_uri": "https://localhost:8080/"
        },
        "id": "35nmPukKd0wu",
        "outputId": "d77fb7fd-e577-4a3d-edcc-7965bed696ab"
      },
      "execution_count": null,
      "outputs": [
        {
          "output_type": "stream",
          "name": "stdout",
          "text": [
            "+--------------------+\n",
            "|               value|\n",
            "+--------------------+\n",
            "|1,2023-11-12,VENM...|\n",
            "|2,2023-11-12,Chec...|\n",
            "|3,2023-11-12,Tran...|\n",
            "|4,2023-11-09,Chec...|\n",
            "|5,2023-11-09,Jong...|\n",
            "|6,2023-11-08,Tran...|\n",
            "|7,2023-11-08,Elec...|\n",
            "|8,2023-11-07,Tran...|\n",
            "|9,2023-11-07,Elec...|\n",
            "|10,2023-11-04,Tra...|\n",
            "|11,2023-11-03,Che...|\n",
            "|12,2023-11-03,Che...|\n",
            "|13,2023-11-02,Ube...|\n",
            "|14,2023-11-02,Ube...|\n",
            "|15,2023-11-02,Chi...|\n",
            "|16,2023-11-01,Che...|\n",
            "|17,2023-10-30,Jon...|\n",
            "|18,2023-10-27,Ins...|\n",
            "|19,2023-10-27,Tra...|\n",
            "|20,2023-10-26,Che...|\n",
            "+--------------------+\n",
            "only showing top 20 rows\n",
            "\n"
          ]
        }
      ]
    },
    {
      "cell_type": "code",
      "source": [
        "df = spark.read.format(\"csv\")\\\n",
        "      .load(\"transaction_history.csv\")\\\n",
        "      .toDF(\"id\", \"Date\", \"description\", \"debit\", \"credit\", \"classification\" )"
      ],
      "metadata": {
        "id": "DFTZMuRld40M"
      },
      "execution_count": null,
      "outputs": []
    },
    {
      "cell_type": "code",
      "source": [
        "df.printSchema()"
      ],
      "metadata": {
        "colab": {
          "base_uri": "https://localhost:8080/"
        },
        "id": "E76xPcpNecV9",
        "outputId": "4167e282-fb7e-41dd-9568-65bcf5bc418c"
      },
      "execution_count": null,
      "outputs": [
        {
          "output_type": "stream",
          "name": "stdout",
          "text": [
            "root\n",
            " |-- id: string (nullable = true)\n",
            " |-- Date: string (nullable = true)\n",
            " |-- description: string (nullable = true)\n",
            " |-- debit: string (nullable = true)\n",
            " |-- credit: string (nullable = true)\n",
            " |-- classification: string (nullable = true)\n",
            "\n"
          ]
        }
      ]
    },
    {
      "cell_type": "code",
      "source": [
        "#Set Structure\n",
        "from pyspark.sql.types import StringType, IntegerType, FloatType, DateType\n",
        "from pyspark.sql.types import StructType, StructField\n",
        "\n",
        "schema = StructType([ \\\n",
        "                     StructField(\"id\", IntegerType(), True), \\\n",
        "                     StructField(\"Date\", DateType(), True), \\\n",
        "                     StructField(\"description\", StringType(), True), \\\n",
        "                     StructField(\"debit\", FloatType(), True), \\\n",
        "                     StructField(\"credit\", FloatType(), True), \\\n",
        "                     StructField(\"classification\", StringType(), True)])"
      ],
      "metadata": {
        "id": "pNW-S7_PeipX"
      },
      "execution_count": null,
      "outputs": []
    },
    {
      "cell_type": "code",
      "source": [
        "df = spark.read.schema(schema).csv(\"transaction_history.csv\")"
      ],
      "metadata": {
        "id": "_oWs8y_VfJoO"
      },
      "execution_count": null,
      "outputs": []
    },
    {
      "cell_type": "code",
      "source": [
        "df.printSchema()"
      ],
      "metadata": {
        "colab": {
          "base_uri": "https://localhost:8080/"
        },
        "id": "FsjGiKDBfA7D",
        "outputId": "e54f3923-d103-4ef9-f846-b52e102af154"
      },
      "execution_count": null,
      "outputs": [
        {
          "output_type": "stream",
          "name": "stdout",
          "text": [
            "root\n",
            " |-- id: integer (nullable = true)\n",
            " |-- Date: date (nullable = true)\n",
            " |-- description: string (nullable = true)\n",
            " |-- debit: float (nullable = true)\n",
            " |-- credit: float (nullable = true)\n",
            " |-- classification: string (nullable = true)\n",
            "\n"
          ]
        }
      ]
    },
    {
      "cell_type": "code",
      "source": [
        "df.count()"
      ],
      "metadata": {
        "colab": {
          "base_uri": "https://localhost:8080/"
        },
        "id": "pvTyNt2VfULG",
        "outputId": "e2687f52-af01-4df7-9656-0a9481ef301c"
      },
      "execution_count": null,
      "outputs": [
        {
          "output_type": "execute_result",
          "data": {
            "text/plain": [
              "841"
            ]
          },
          "metadata": {},
          "execution_count": 30
        }
      ]
    },
    {
      "cell_type": "code",
      "source": [
        "df.show()"
      ],
      "metadata": {
        "colab": {
          "base_uri": "https://localhost:8080/"
        },
        "id": "T4gIjm6Xffgv",
        "outputId": "870f8bb2-977a-433c-e434-f6ba28c6eb83"
      },
      "execution_count": null,
      "outputs": [
        {
          "output_type": "stream",
          "name": "stdout",
          "text": [
            "+---+----------+--------------------+------+-------+-----------------+\n",
            "| id|      Date|         description| debit| credit|   classification|\n",
            "+---+----------+--------------------+------+-------+-----------------+\n",
            "|  1|2023-11-12|VENMO  *STARBUCK ...|  25.0|    0.0|             null|\n",
            "|  2|2023-11-12|Check Insomnia Co...| 11.72|    0.0|Food &amp; Dining|\n",
            "|  3|2023-11-12|   Transfer to Venmo|427.71|    0.0|         Transfer|\n",
            "|  4|2023-11-09|Check Binghamton ...|  1.38|    0.0|    Uncategorized|\n",
            "|  5|2023-11-09|         Jongjun Kim|   0.0| 454.45|         Paycheck|\n",
            "|  6|2023-11-08| Transfer from Venmo|   0.0|   35.0|         Transfer|\n",
            "|  7|2023-11-08|        Electric Gas| 86.73|    0.0|        Utilities|\n",
            "|  8|2023-11-07|   Transfer to Venmo| 68.21|    0.0|         Transfer|\n",
            "|  9|2023-11-07|        Electric Gas| 86.73|    0.0|        Utilities|\n",
            "| 10|2023-11-04|   Transfer to Venmo|  15.0|    0.0|         Transfer|\n",
            "| 11|2023-11-03|      Check 30518793| 750.0|    0.0|            Check|\n",
            "| 12|2023-11-03|Check Binghamton ...|  6.47|    0.0|        Education|\n",
            "| 13|2023-11-02|           Uber Eats|  2.28|    0.0|Food &amp; Dining|\n",
            "| 14|2023-11-02|           Uber Eats| 19.46|    0.0|Food &amp; Dining|\n",
            "| 15|2023-11-02|            Chipotle|  26.3|    0.0|        Fast Food|\n",
            "| 16|2023-11-01|Check Suny Bingha...| 100.0|    0.0|        Education|\n",
            "| 17|2023-10-30|         Jongjun Kim|   0.0|1392.08|         Paycheck|\n",
            "| 18|2023-10-27|           Instacart| 52.55|    0.0|        Groceries|\n",
            "| 19|2023-10-27|   Transfer to Venmo|  11.0|    0.0|         Transfer|\n",
            "| 20|2023-10-26|Check Binghamton ...|  2.15|    0.0|         Shopping|\n",
            "+---+----------+--------------------+------+-------+-----------------+\n",
            "only showing top 20 rows\n",
            "\n"
          ]
        }
      ]
    },
    {
      "cell_type": "markdown",
      "source": [
        "#Spark SQL"
      ],
      "metadata": {
        "id": "3oh4FogLf7pk"
      }
    },
    {
      "cell_type": "code",
      "source": [
        "df.createOrReplaceTempView(\"transaction_history\")"
      ],
      "metadata": {
        "id": "MZ54J7euf5az"
      },
      "execution_count": null,
      "outputs": []
    },
    {
      "cell_type": "code",
      "source": [
        "query1 = spark.sql(\"\"\"SELECT Date, description, debit, classification\n",
        "FROM transaction_history\n",
        "where debit = (SELECT Max(debit) from transaction_history)\n",
        "\"\"\")"
      ],
      "metadata": {
        "id": "lmD4C3DOgOIX"
      },
      "execution_count": null,
      "outputs": []
    },
    {
      "cell_type": "code",
      "source": [
        "query1.show()"
      ],
      "metadata": {
        "colab": {
          "base_uri": "https://localhost:8080/"
        },
        "id": "dI6PZFTSgTCW",
        "outputId": "b5722068-4c8f-41d2-8f03-388693b1f22d"
      },
      "execution_count": null,
      "outputs": [
        {
          "output_type": "stream",
          "name": "stdout",
          "text": [
            "+----------+-----------+------+--------------+\n",
            "|      Date|description| debit|classification|\n",
            "+----------+-----------+------+--------------+\n",
            "|2022-06-09| Withdrawal|1790.0| Uncategorized|\n",
            "+----------+-----------+------+--------------+\n",
            "\n"
          ]
        }
      ]
    },
    {
      "cell_type": "code",
      "source": [
        "#ranking over debit\n",
        "query2 = spark.sql(\"\"\"\n",
        "Select Date, description, debit, credit, classification from\n",
        "(SELECT Date, description, debit, credit, classification, row_number() over(partition by classification order by debit desc) as rn\n",
        "FROM transaction_history) as sub\n",
        "where sub.rn = 1\n",
        "order by debit desc\n",
        "\"\"\")"
      ],
      "metadata": {
        "id": "9SofJRhzlESy"
      },
      "execution_count": null,
      "outputs": []
    },
    {
      "cell_type": "code",
      "source": [
        "query2.show()"
      ],
      "metadata": {
        "colab": {
          "base_uri": "https://localhost:8080/"
        },
        "id": "zp6dZi-Klhv2",
        "outputId": "3ae4972c-966f-4218-b5d0-302794e6be25"
      },
      "execution_count": null,
      "outputs": [
        {
          "output_type": "stream",
          "name": "stdout",
          "text": [
            "+----------+--------------------+------+------+--------------------+\n",
            "|      Date|         description| debit|credit|      classification|\n",
            "+----------+--------------------+------+------+--------------------+\n",
            "|2022-06-09|          Withdrawal|1790.0|   0.0|       Uncategorized|\n",
            "|2023-08-18|      Check 30502923|1475.0|   0.0|               Check|\n",
            "|2022-05-05|   Check Suny Canton| 942.5|   0.0|           Education|\n",
            "|2022-11-01|   Transfer to Venmo| 746.0|   0.0|            Transfer|\n",
            "|2022-06-05|      ATM Withdrawal| 500.0|   0.0|                Cash|\n",
            "|2022-07-05|   American Airlines| 400.6|   0.0|          Air Travel|\n",
            "|2023-03-13|              Airbnb|187.15|   0.0|              Travel|\n",
            "|2022-11-27|                Zara| 184.0|   0.0|            Shopping|\n",
            "|2022-07-10|Check Home Scienc...|127.29|   0.0|                Home|\n",
            "|2023-09-18|            Spectrum|107.73|   0.0|Bills &amp; Utili...|\n",
            "|2022-01-31|           Instacart|106.92|   0.0|           Groceries|\n",
            "|2023-11-08|        Electric Gas| 86.73|   0.0|           Utilities|\n",
            "|2022-01-27|Check Zybook Coll...|  77.0|   0.0|   Business Services|\n",
            "|2023-03-28|         Check Rally|  66.1|   0.0|           Fast Food|\n",
            "|2023-08-18|         Mint Mobile| 55.78|   0.0|        Mobile Phone|\n",
            "|2023-05-15|Check Pho Nomenal...| 46.62|   0.0|   Food &amp; Dining|\n",
            "|2023-02-12|Check Parkway Win...| 44.26|   0.0|  Alcohol &amp; Bars|\n",
            "|2023-02-25|Check Red Chili C...| 41.77|   0.0|         Restaurants|\n",
            "|2023-04-06|                Lyft| 37.68|   0.0|Rental Car &amp; ...|\n",
            "|2019-11-17|              Sunoco| 36.59|   0.0|                 Gas|\n",
            "+----------+--------------------+------+------+--------------------+\n",
            "only showing top 20 rows\n",
            "\n"
          ]
        }
      ]
    },
    {
      "cell_type": "code",
      "source": [
        "driver_results = query2.collect()\n",
        "\n",
        "print(\"Date       | Description                                  | Debit      | Credit     | Classification\")\n",
        "print(\"-\" * 80)\n",
        "\n",
        "for r in driver_results:\n",
        "    date_str = r.Date.strftime('%Y-%m-%d')\n",
        "    description = r.description[:40].ljust(40)\n",
        "    debit = f\"{r.debit:.2f}\".rjust(10)\n",
        "    credit = f\"{r.credit:.2f}\".rjust(10)\n",
        "    classification = (r.classification or '').ljust(15)\n",
        "\n",
        "    print(f\"{date_str} | {description} | {debit} | {credit} | {classification}\")"
      ],
      "metadata": {
        "colab": {
          "base_uri": "https://localhost:8080/"
        },
        "id": "laXtY9B4no4f",
        "outputId": "61b62a1e-72e6-441d-c2dd-d35b9085ad6d"
      },
      "execution_count": null,
      "outputs": [
        {
          "output_type": "stream",
          "name": "stdout",
          "text": [
            "Date       | Description                                  | Debit      | Credit     | Classification\n",
            "--------------------------------------------------------------------------------\n",
            "2022-06-09 | Withdrawal                               |    1790.00 |       0.00 | Uncategorized  \n",
            "2023-08-18 | Check 30502923                           |    1475.00 |       0.00 | Check          \n",
            "2022-05-05 | Check Suny Canton                        |     942.50 |       0.00 | Education      \n",
            "2022-11-01 | Transfer to Venmo                        |     746.00 |       0.00 | Transfer       \n",
            "2022-06-05 | ATM Withdrawal                           |     500.00 |       0.00 | Cash           \n",
            "2022-07-05 | American Airlines                        |     400.60 |       0.00 | Air Travel     \n",
            "2023-03-13 | Airbnb                                   |     187.15 |       0.00 | Travel         \n",
            "2022-11-27 | Zara                                     |     184.00 |       0.00 | Shopping       \n",
            "2022-07-10 | Check Home Science Tools                 |     127.29 |       0.00 | Home           \n",
            "2023-09-18 | Spectrum                                 |     107.73 |       0.00 | Bills &amp; Utilities\n",
            "2022-01-31 | Instacart                                |     106.92 |       0.00 | Groceries      \n",
            "2023-11-08 | Electric Gas                             |      86.73 |       0.00 | Utilities      \n",
            "2022-01-27 | Check Zybook College Txtbook             |      77.00 |       0.00 | Business Services\n",
            "2023-03-28 | Check Rally                              |      66.10 |       0.00 | Fast Food      \n",
            "2023-08-18 | Mint Mobile                              |      55.78 |       0.00 | Mobile Phone   \n",
            "2023-05-15 | Check Pho Nomenal Vietna                 |      46.62 |       0.00 | Food &amp; Dining\n",
            "2023-02-12 | Check Parkway Wine &amp; Spirits         |      44.26 |       0.00 | Alcohol &amp; Bars\n",
            "2023-02-25 | Check Red Chili Chinese Resta            |      41.77 |       0.00 | Restaurants    \n",
            "2023-04-06 | Lyft                                     |      37.68 |       0.00 | Rental Car &amp; Taxi\n",
            "2019-11-17 | Sunoco                                   |      36.59 |       0.00 | Gas            \n",
            "2019-11-04 | Shoe Carnival                            |      36.39 |       0.00 | Clothing       \n",
            "2022-12-29 | AMC Theatres                             |      28.16 |       0.00 | Movies &amp; DVDs\n",
            "2023-11-12 | VENMO  *STARBUCK 5814034538 1112114538 3 |      25.00 |       0.00 |                \n",
            "2022-08-13 | Starbucks                                |      25.00 |       0.00 | Coffee Shops   \n",
            "2019-12-27 | At ATM Broome County Transit Aut Chenang |      23.00 |       0.00 | Auto &amp; Transport\n",
            "2023-04-26 | Openai.com                               |      21.60 |       0.00 | Electronics &amp; Software\n",
            "2019-11-09 | Dick's Sporting Goods                    |      16.17 |       0.00 | Sporting Goods \n",
            "2022-12-30 | Ulta Beauty                              |      11.86 |       0.00 | Personal Care  \n",
            "2019-11-01 | Red Apple                                |       9.93 |       0.00 | Entertainment  \n",
            "2023-08-18 | MetroCard Vending Machines               |       9.25 |       0.00 | Public Transportation\n",
            "2019-11-06 | CVS                                      |       6.59 |       0.00 | Pharmacy       \n",
            "2022-07-14 | CSC Service Works                        |       5.00 |       0.00 | Laundry        \n",
            "2023-09-03 | Check Parking Kiosk                      |       2.00 |       0.00 | Parking        \n",
            "2020-01-06 | Visa Card Fee                            |       0.04 |       0.00 | Fees &amp; Charges\n",
            "2022-08-13 | Deposit Shared Branch Check Hold Release |       0.00 |     900.00 | Income         \n",
            "2023-11-09 | Jongjun Kim                              |       0.00 |     454.45 | Paycheck       \n"
          ]
        }
      ]
    },
    {
      "cell_type": "code",
      "source": [
        "#Consumption Patterns\n",
        "query3 = spark.sql(\"\"\"\n",
        "Select classification, Round(sum(debit),2) as Total_debit,\n",
        "Concat(Round(sum(debit) / (select sum(debit) from transaction_history) * 100,2), \"%\") as Percentage\n",
        "FROM transaction_history\n",
        "where classification is not null\n",
        "group by classification\n",
        "order by sum(debit) desc limit 20\n",
        "\"\"\")"
      ],
      "metadata": {
        "id": "pG8uGoMfmHMX"
      },
      "execution_count": null,
      "outputs": []
    },
    {
      "cell_type": "code",
      "source": [
        "query3.show()"
      ],
      "metadata": {
        "colab": {
          "base_uri": "https://localhost:8080/"
        },
        "id": "Ymtpfxc8nbTE",
        "outputId": "dbcdada3-b0f5-4a1a-a0b0-2e54f0484593"
      },
      "execution_count": null,
      "outputs": [
        {
          "output_type": "stream",
          "name": "stdout",
          "text": [
            "+--------------------+-----------+----------+\n",
            "|      classification|Total_debit|Percentage|\n",
            "+--------------------+-----------+----------+\n",
            "|            Transfer|   10230.86|    29.08%|\n",
            "|               Check|     5153.0|    14.65%|\n",
            "|       Uncategorized|    4155.94|    11.81%|\n",
            "|                Cash|     3970.0|    11.29%|\n",
            "|           Groceries|    2960.24|     8.41%|\n",
            "|            Shopping|    1679.01|     4.77%|\n",
            "|           Education|    1330.47|     3.78%|\n",
            "|           Fast Food|     1032.2|     2.93%|\n",
            "|              Travel|     878.75|      2.5%|\n",
            "|Bills &amp; Utili...|      733.8|     2.09%|\n",
            "|        Coffee Shops|     467.45|     1.33%|\n",
            "|   Food &amp; Dining|     438.08|     1.25%|\n",
            "|          Air Travel|      400.6|     1.14%|\n",
            "|Rental Car &amp; ...|     375.59|     1.07%|\n",
            "|           Utilities|     241.76|     0.69%|\n",
            "|                Home|     232.83|     0.66%|\n",
            "|         Restaurants|     142.53|     0.41%|\n",
            "|  Alcohol &amp; Bars|     134.21|     0.38%|\n",
            "|   Business Services|       98.6|     0.28%|\n",
            "|            Clothing|      91.57|     0.26%|\n",
            "+--------------------+-----------+----------+\n",
            "\n"
          ]
        }
      ]
    }
  ]
}
