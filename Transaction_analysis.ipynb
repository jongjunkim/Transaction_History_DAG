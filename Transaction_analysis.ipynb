{
  "nbformat": 4,
  "nbformat_minor": 0,
  "metadata": {
    "colab": {
      "provenance": [],
      "authorship_tag": "ABX9TyPcE1ThJ6+nRhfwi31ocaYG",
      "include_colab_link": true
    },
    "kernelspec": {
      "name": "python3",
      "display_name": "Python 3"
    },
    "language_info": {
      "name": "python"
    }
  },
  "cells": [
    {
      "cell_type": "markdown",
      "metadata": {
        "id": "view-in-github",
        "colab_type": "text"
      },
      "source": [
        "<a href=\"https://colab.research.google.com/github/jongjunkim/Transaction_History_DAG/blob/main/Transaction_analysis.ipynb\" target=\"_parent\"><img src=\"https://colab.research.google.com/assets/colab-badge.svg\" alt=\"Open In Colab\"/></a>"
      ]
    },
    {
      "cell_type": "code",
      "execution_count": null,
      "metadata": {
        "id": "PNW1gUdwbZ0F"
      },
      "outputs": [],
      "source": [
        "!pip install pyspark==3.3.1 py4j==0.10.9.5"
      ]
    },
    {
      "cell_type": "code",
      "source": [
        "!wget https://jongjun.s3.us-east-2.amazonaws.com/transaction_history.csv"
      ],
      "metadata": {
        "colab": {
          "base_uri": "https://localhost:8080/"
        },
        "id": "BbJeJWHJdKPX",
        "outputId": "b8ef79e4-06fe-4255-e70e-e33f1da783c8"
      },
      "execution_count": 2,
      "outputs": [
        {
          "output_type": "stream",
          "name": "stdout",
          "text": [
            "--2023-11-15 19:28:45--  https://jongjun.s3.us-east-2.amazonaws.com/transaction_history.csv\n",
            "Resolving jongjun.s3.us-east-2.amazonaws.com (jongjun.s3.us-east-2.amazonaws.com)... 52.219.109.138, 3.5.130.120, 3.5.131.121, ...\n",
            "Connecting to jongjun.s3.us-east-2.amazonaws.com (jongjun.s3.us-east-2.amazonaws.com)|52.219.109.138|:443... connected.\n",
            "HTTP request sent, awaiting response... 200 OK\n",
            "Length: 44491 (43K) [binary/octet-stream]\n",
            "Saving to: ‘transaction_history.csv’\n",
            "\n",
            "transaction_history 100%[===================>]  43.45K  --.-KB/s    in 0.06s   \n",
            "\n",
            "2023-11-15 19:28:45 (703 KB/s) - ‘transaction_history.csv’ saved [44491/44491]\n",
            "\n"
          ]
        }
      ]
    },
    {
      "cell_type": "code",
      "source": [
        "from pyspark.sql import SparkSession\n",
        "from pyspark import SparkConf\n",
        "\n",
        "conf = SparkConf()\n",
        "conf.set(\"spark.app.name\", \"PySpark DataFrame #1\")\n",
        "conf.set(\"spark.master\", \"local[*]\")\n",
        "\n",
        "spark = SparkSession.builder\\\n",
        "        .config(conf=conf)\\\n",
        "        .getOrCreate()"
      ],
      "metadata": {
        "id": "SYgxJ4F2dVjY"
      },
      "execution_count": 3,
      "outputs": []
    },
    {
      "cell_type": "code",
      "source": [
        "df = spark.read.format(\"text\").load(\"transaction_history.csv\")"
      ],
      "metadata": {
        "id": "hIDDxTzhdeCv"
      },
      "execution_count": 5,
      "outputs": []
    },
    {
      "cell_type": "code",
      "source": [
        "df.show()"
      ],
      "metadata": {
        "colab": {
          "base_uri": "https://localhost:8080/"
        },
        "id": "35nmPukKd0wu",
        "outputId": "d77fb7fd-e577-4a3d-edcc-7965bed696ab"
      },
      "execution_count": 6,
      "outputs": [
        {
          "output_type": "stream",
          "name": "stdout",
          "text": [
            "+--------------------+\n",
            "|               value|\n",
            "+--------------------+\n",
            "|1,2023-11-12,VENM...|\n",
            "|2,2023-11-12,Chec...|\n",
            "|3,2023-11-12,Tran...|\n",
            "|4,2023-11-09,Chec...|\n",
            "|5,2023-11-09,Jong...|\n",
            "|6,2023-11-08,Tran...|\n",
            "|7,2023-11-08,Elec...|\n",
            "|8,2023-11-07,Tran...|\n",
            "|9,2023-11-07,Elec...|\n",
            "|10,2023-11-04,Tra...|\n",
            "|11,2023-11-03,Che...|\n",
            "|12,2023-11-03,Che...|\n",
            "|13,2023-11-02,Ube...|\n",
            "|14,2023-11-02,Ube...|\n",
            "|15,2023-11-02,Chi...|\n",
            "|16,2023-11-01,Che...|\n",
            "|17,2023-10-30,Jon...|\n",
            "|18,2023-10-27,Ins...|\n",
            "|19,2023-10-27,Tra...|\n",
            "|20,2023-10-26,Che...|\n",
            "+--------------------+\n",
            "only showing top 20 rows\n",
            "\n"
          ]
        }
      ]
    },
    {
      "cell_type": "code",
      "source": [
        "df = spark.read.format(\"csv\")\\\n",
        "      .load(\"transaction_history.csv\")\\\n",
        "      .toDF(\"id\", \"Date\", \"description\", \"debit\", \"credit\", \"classification\" )"
      ],
      "metadata": {
        "id": "DFTZMuRld40M"
      },
      "execution_count": 7,
      "outputs": []
    },
    {
      "cell_type": "code",
      "source": [
        "df.printSchema()"
      ],
      "metadata": {
        "colab": {
          "base_uri": "https://localhost:8080/"
        },
        "id": "E76xPcpNecV9",
        "outputId": "4167e282-fb7e-41dd-9568-65bcf5bc418c"
      },
      "execution_count": 8,
      "outputs": [
        {
          "output_type": "stream",
          "name": "stdout",
          "text": [
            "root\n",
            " |-- id: string (nullable = true)\n",
            " |-- Date: string (nullable = true)\n",
            " |-- description: string (nullable = true)\n",
            " |-- debit: string (nullable = true)\n",
            " |-- credit: string (nullable = true)\n",
            " |-- classification: string (nullable = true)\n",
            "\n"
          ]
        }
      ]
    },
    {
      "cell_type": "code",
      "source": [
        "#Set Structure\n",
        "from pyspark.sql.types import StringType, IntegerType, FloatType, DateType\n",
        "from pyspark.sql.types import StructType, StructField\n",
        "\n",
        "schema = StructType([ \\\n",
        "                     StructField(\"id\", IntegerType(), True), \\\n",
        "                     StructField(\"Date\", DateType(), True), \\\n",
        "                     StructField(\"description\", StringType(), True), \\\n",
        "                     StructField(\"debit\", FloatType(), True), \\\n",
        "                     StructField(\"credit\", FloatType(), True), \\\n",
        "                     StructField(\"classification\", StringType(), True)])"
      ],
      "metadata": {
        "id": "pNW-S7_PeipX"
      },
      "execution_count": 26,
      "outputs": []
    },
    {
      "cell_type": "code",
      "source": [
        "df = spark.read.schema(schema).csv(\"transaction_history.csv\")"
      ],
      "metadata": {
        "id": "_oWs8y_VfJoO"
      },
      "execution_count": 28,
      "outputs": []
    },
    {
      "cell_type": "code",
      "source": [
        "df.printSchema()"
      ],
      "metadata": {
        "colab": {
          "base_uri": "https://localhost:8080/"
        },
        "id": "FsjGiKDBfA7D",
        "outputId": "e54f3923-d103-4ef9-f846-b52e102af154"
      },
      "execution_count": 29,
      "outputs": [
        {
          "output_type": "stream",
          "name": "stdout",
          "text": [
            "root\n",
            " |-- id: integer (nullable = true)\n",
            " |-- Date: date (nullable = true)\n",
            " |-- description: string (nullable = true)\n",
            " |-- debit: float (nullable = true)\n",
            " |-- credit: float (nullable = true)\n",
            " |-- classification: string (nullable = true)\n",
            "\n"
          ]
        }
      ]
    },
    {
      "cell_type": "code",
      "source": [
        "df.count()"
      ],
      "metadata": {
        "colab": {
          "base_uri": "https://localhost:8080/"
        },
        "id": "pvTyNt2VfULG",
        "outputId": "e2687f52-af01-4df7-9656-0a9481ef301c"
      },
      "execution_count": 30,
      "outputs": [
        {
          "output_type": "execute_result",
          "data": {
            "text/plain": [
              "841"
            ]
          },
          "metadata": {},
          "execution_count": 30
        }
      ]
    },
    {
      "cell_type": "code",
      "source": [
        "df.show()"
      ],
      "metadata": {
        "colab": {
          "base_uri": "https://localhost:8080/"
        },
        "id": "T4gIjm6Xffgv",
        "outputId": "870f8bb2-977a-433c-e434-f6ba28c6eb83"
      },
      "execution_count": 31,
      "outputs": [
        {
          "output_type": "stream",
          "name": "stdout",
          "text": [
            "+---+----------+--------------------+------+-------+-----------------+\n",
            "| id|      Date|         description| debit| credit|   classification|\n",
            "+---+----------+--------------------+------+-------+-----------------+\n",
            "|  1|2023-11-12|VENMO  *STARBUCK ...|  25.0|    0.0|             null|\n",
            "|  2|2023-11-12|Check Insomnia Co...| 11.72|    0.0|Food &amp; Dining|\n",
            "|  3|2023-11-12|   Transfer to Venmo|427.71|    0.0|         Transfer|\n",
            "|  4|2023-11-09|Check Binghamton ...|  1.38|    0.0|    Uncategorized|\n",
            "|  5|2023-11-09|         Jongjun Kim|   0.0| 454.45|         Paycheck|\n",
            "|  6|2023-11-08| Transfer from Venmo|   0.0|   35.0|         Transfer|\n",
            "|  7|2023-11-08|        Electric Gas| 86.73|    0.0|        Utilities|\n",
            "|  8|2023-11-07|   Transfer to Venmo| 68.21|    0.0|         Transfer|\n",
            "|  9|2023-11-07|        Electric Gas| 86.73|    0.0|        Utilities|\n",
            "| 10|2023-11-04|   Transfer to Venmo|  15.0|    0.0|         Transfer|\n",
            "| 11|2023-11-03|      Check 30518793| 750.0|    0.0|            Check|\n",
            "| 12|2023-11-03|Check Binghamton ...|  6.47|    0.0|        Education|\n",
            "| 13|2023-11-02|           Uber Eats|  2.28|    0.0|Food &amp; Dining|\n",
            "| 14|2023-11-02|           Uber Eats| 19.46|    0.0|Food &amp; Dining|\n",
            "| 15|2023-11-02|            Chipotle|  26.3|    0.0|        Fast Food|\n",
            "| 16|2023-11-01|Check Suny Bingha...| 100.0|    0.0|        Education|\n",
            "| 17|2023-10-30|         Jongjun Kim|   0.0|1392.08|         Paycheck|\n",
            "| 18|2023-10-27|           Instacart| 52.55|    0.0|        Groceries|\n",
            "| 19|2023-10-27|   Transfer to Venmo|  11.0|    0.0|         Transfer|\n",
            "| 20|2023-10-26|Check Binghamton ...|  2.15|    0.0|         Shopping|\n",
            "+---+----------+--------------------+------+-------+-----------------+\n",
            "only showing top 20 rows\n",
            "\n"
          ]
        }
      ]
    },
    {
      "cell_type": "markdown",
      "source": [
        "#Spark SQL"
      ],
      "metadata": {
        "id": "3oh4FogLf7pk"
      }
    },
    {
      "cell_type": "code",
      "source": [
        "df.createOrReplaceTempView(\"transaction_history\")"
      ],
      "metadata": {
        "id": "MZ54J7euf5az"
      },
      "execution_count": 32,
      "outputs": []
    },
    {
      "cell_type": "code",
      "source": [
        "query1 = spark.sql(\"\"\"SELECT Date, description, debit, classification\n",
        "FROM transaction_history\n",
        "where debit = (SELECT Max(debit) from transaction_history)\n",
        "\"\"\")"
      ],
      "metadata": {
        "id": "lmD4C3DOgOIX"
      },
      "execution_count": 49,
      "outputs": []
    },
    {
      "cell_type": "code",
      "source": [
        "query1.show()"
      ],
      "metadata": {
        "colab": {
          "base_uri": "https://localhost:8080/"
        },
        "id": "dI6PZFTSgTCW",
        "outputId": "b5722068-4c8f-41d2-8f03-388693b1f22d"
      },
      "execution_count": 50,
      "outputs": [
        {
          "output_type": "stream",
          "name": "stdout",
          "text": [
            "+----------+-----------+------+--------------+\n",
            "|      Date|description| debit|classification|\n",
            "+----------+-----------+------+--------------+\n",
            "|2022-06-09| Withdrawal|1790.0| Uncategorized|\n",
            "+----------+-----------+------+--------------+\n",
            "\n"
          ]
        }
      ]
    },
    {
      "cell_type": "code",
      "source": [
        "#ranking over debit\n",
        "query2 = spark.sql(\"\"\"\n",
        "Select Date, description, debit, credit, classification from\n",
        "(SELECT Date, description, debit, credit, classification, row_number() over(partition by classification order by debit desc) as rn\n",
        "FROM transaction_history) as sub\n",
        "where sub.rn = 1\n",
        "order by debit desc\n",
        "\"\"\")"
      ],
      "metadata": {
        "id": "9SofJRhzlESy"
      },
      "execution_count": 87,
      "outputs": []
    },
    {
      "cell_type": "code",
      "source": [
        "query2.show()"
      ],
      "metadata": {
        "colab": {
          "base_uri": "https://localhost:8080/"
        },
        "id": "zp6dZi-Klhv2",
        "outputId": "3ae4972c-966f-4218-b5d0-302794e6be25"
      },
      "execution_count": 88,
      "outputs": [
        {
          "output_type": "stream",
          "name": "stdout",
          "text": [
            "+----------+--------------------+------+------+--------------------+\n",
            "|      Date|         description| debit|credit|      classification|\n",
            "+----------+--------------------+------+------+--------------------+\n",
            "|2022-06-09|          Withdrawal|1790.0|   0.0|       Uncategorized|\n",
            "|2023-08-18|      Check 30502923|1475.0|   0.0|               Check|\n",
            "|2022-05-05|   Check Suny Canton| 942.5|   0.0|           Education|\n",
            "|2022-11-01|   Transfer to Venmo| 746.0|   0.0|            Transfer|\n",
            "|2022-06-05|      ATM Withdrawal| 500.0|   0.0|                Cash|\n",
            "|2022-07-05|   American Airlines| 400.6|   0.0|          Air Travel|\n",
            "|2023-03-13|              Airbnb|187.15|   0.0|              Travel|\n",
            "|2022-11-27|                Zara| 184.0|   0.0|            Shopping|\n",
            "|2022-07-10|Check Home Scienc...|127.29|   0.0|                Home|\n",
            "|2023-09-18|            Spectrum|107.73|   0.0|Bills &amp; Utili...|\n",
            "|2022-01-31|           Instacart|106.92|   0.0|           Groceries|\n",
            "|2023-11-08|        Electric Gas| 86.73|   0.0|           Utilities|\n",
            "|2022-01-27|Check Zybook Coll...|  77.0|   0.0|   Business Services|\n",
            "|2023-03-28|         Check Rally|  66.1|   0.0|           Fast Food|\n",
            "|2023-08-18|         Mint Mobile| 55.78|   0.0|        Mobile Phone|\n",
            "|2023-05-15|Check Pho Nomenal...| 46.62|   0.0|   Food &amp; Dining|\n",
            "|2023-02-12|Check Parkway Win...| 44.26|   0.0|  Alcohol &amp; Bars|\n",
            "|2023-02-25|Check Red Chili C...| 41.77|   0.0|         Restaurants|\n",
            "|2023-04-06|                Lyft| 37.68|   0.0|Rental Car &amp; ...|\n",
            "|2019-11-17|              Sunoco| 36.59|   0.0|                 Gas|\n",
            "+----------+--------------------+------+------+--------------------+\n",
            "only showing top 20 rows\n",
            "\n"
          ]
        }
      ]
    },
    {
      "cell_type": "code",
      "source": [
        "driver_results = query2.collect()\n",
        "for r in driver_results:\n",
        "    print(r)"
      ],
      "metadata": {
        "colab": {
          "base_uri": "https://localhost:8080/"
        },
        "id": "laXtY9B4no4f",
        "outputId": "3e78a446-903b-4be7-c913-52639add35b7"
      },
      "execution_count": 75,
      "outputs": [
        {
          "output_type": "stream",
          "name": "stdout",
          "text": [
            "Row(Date=datetime.date(2023, 11, 12), description='VENMO  *STARBUCK 5814034538 1112114538 331618594702                    11 739.38 11/15/2023 12:00:00 AM', debit=25.0, credit=0.0, classification=None)\n",
            "Row(Date=datetime.date(2022, 7, 5), description='American Airlines', debit=400.6000061035156, credit=0.0, classification='Air Travel')\n",
            "Row(Date=datetime.date(2023, 2, 12), description='Check Parkway Wine &amp; Spirits', debit=44.2599983215332, credit=0.0, classification='Alcohol &amp; Bars')\n",
            "Row(Date=datetime.date(2019, 12, 27), description='At ATM Broome County Transit Aut Chenango Stbinghamton', debit=23.0, credit=0.0, classification='Auto &amp; Transport')\n",
            "Row(Date=datetime.date(2023, 9, 18), description='Spectrum', debit=107.7300033569336, credit=0.0, classification='Bills &amp; Utilities')\n",
            "Row(Date=datetime.date(2022, 1, 27), description='Check Zybook College Txtbook', debit=77.0, credit=0.0, classification='Business Services')\n",
            "Row(Date=datetime.date(2022, 6, 5), description='ATM Withdrawal', debit=500.0, credit=0.0, classification='Cash')\n",
            "Row(Date=datetime.date(2023, 8, 18), description='Check 30502923', debit=1475.0, credit=0.0, classification='Check')\n",
            "Row(Date=datetime.date(2019, 11, 4), description='Shoe Carnival', debit=36.38999938964844, credit=0.0, classification='Clothing')\n",
            "Row(Date=datetime.date(2022, 8, 13), description='Starbucks', debit=25.0, credit=0.0, classification='Coffee Shops')\n",
            "Row(Date=datetime.date(2022, 5, 5), description='Check Suny Canton', debit=942.5, credit=0.0, classification='Education')\n",
            "Row(Date=datetime.date(2023, 4, 26), description='Openai.com', debit=21.600000381469727, credit=0.0, classification='Electronics &amp; Software')\n",
            "Row(Date=datetime.date(2019, 11, 1), description='Red Apple', debit=9.930000305175781, credit=0.0, classification='Entertainment')\n",
            "Row(Date=datetime.date(2023, 3, 28), description='Check Rally', debit=66.0999984741211, credit=0.0, classification='Fast Food')\n",
            "Row(Date=datetime.date(2020, 1, 6), description='Visa Card Fee', debit=0.03999999910593033, credit=0.0, classification='Fees &amp; Charges')\n",
            "Row(Date=datetime.date(2023, 5, 15), description='Check Pho Nomenal Vietna', debit=46.619998931884766, credit=0.0, classification='Food &amp; Dining')\n",
            "Row(Date=datetime.date(2019, 11, 17), description='Sunoco', debit=36.59000015258789, credit=0.0, classification='Gas')\n",
            "Row(Date=datetime.date(2022, 1, 31), description='Instacart', debit=106.91999816894531, credit=0.0, classification='Groceries')\n",
            "Row(Date=datetime.date(2022, 7, 10), description='Check Home Science Tools', debit=127.29000091552734, credit=0.0, classification='Home')\n",
            "Row(Date=datetime.date(2022, 8, 13), description='Deposit Shared Branch Check Hold Release Visions FCU Mobile', debit=0.0, credit=900.0, classification='Income')\n",
            "Row(Date=datetime.date(2022, 7, 14), description='CSC Service Works', debit=5.0, credit=0.0, classification='Laundry')\n",
            "Row(Date=datetime.date(2023, 8, 18), description='Mint Mobile', debit=55.779998779296875, credit=0.0, classification='Mobile Phone')\n",
            "Row(Date=datetime.date(2022, 12, 29), description='AMC Theatres', debit=28.15999984741211, credit=0.0, classification='Movies &amp; DVDs')\n",
            "Row(Date=datetime.date(2023, 9, 3), description='Check Parking Kiosk', debit=2.0, credit=0.0, classification='Parking')\n",
            "Row(Date=datetime.date(2023, 11, 9), description='Jongjun Kim', debit=0.0, credit=454.45001220703125, classification='Paycheck')\n",
            "Row(Date=datetime.date(2022, 12, 30), description='Ulta Beauty', debit=11.859999656677246, credit=0.0, classification='Personal Care')\n",
            "Row(Date=datetime.date(2019, 11, 6), description='CVS', debit=6.590000152587891, credit=0.0, classification='Pharmacy')\n",
            "Row(Date=datetime.date(2023, 8, 18), description='MetroCard Vending Machines', debit=9.25, credit=0.0, classification='Public Transportation')\n",
            "Row(Date=datetime.date(2023, 4, 6), description='Lyft', debit=37.68000030517578, credit=0.0, classification='Rental Car &amp; Taxi')\n",
            "Row(Date=datetime.date(2023, 2, 25), description='Check Red Chili Chinese Resta', debit=41.77000045776367, credit=0.0, classification='Restaurants')\n",
            "Row(Date=datetime.date(2022, 11, 27), description='Zara', debit=184.0, credit=0.0, classification='Shopping')\n",
            "Row(Date=datetime.date(2019, 11, 9), description=\"Dick's Sporting Goods\", debit=16.170000076293945, credit=0.0, classification='Sporting Goods')\n",
            "Row(Date=datetime.date(2022, 11, 1), description='Transfer to Venmo', debit=746.0, credit=0.0, classification='Transfer')\n",
            "Row(Date=datetime.date(2023, 3, 13), description='Airbnb', debit=187.14999389648438, credit=0.0, classification='Travel')\n",
            "Row(Date=datetime.date(2022, 6, 9), description='Withdrawal', debit=1790.0, credit=0.0, classification='Uncategorized')\n",
            "Row(Date=datetime.date(2023, 11, 8), description='Electric Gas', debit=86.7300033569336, credit=0.0, classification='Utilities')\n"
          ]
        }
      ]
    },
    {
      "cell_type": "code",
      "source": [
        "#Consumption Patterns\n",
        "query3 = spark.sql(\"\"\"\n",
        "Select classification, Round(sum(debit),2) as Total_debit,\n",
        "Concat(Round(sum(debit) / (select sum(debit) from transaction_history) * 100,2), \"%\") as Percentage\n",
        "FROM transaction_history\n",
        "where classification is not null\n",
        "group by classification\n",
        "order by sum(debit) desc limit 20\n",
        "\"\"\")"
      ],
      "metadata": {
        "id": "pG8uGoMfmHMX"
      },
      "execution_count": 102,
      "outputs": []
    },
    {
      "cell_type": "code",
      "source": [
        "query3.show()"
      ],
      "metadata": {
        "colab": {
          "base_uri": "https://localhost:8080/"
        },
        "id": "Ymtpfxc8nbTE",
        "outputId": "dbcdada3-b0f5-4a1a-a0b0-2e54f0484593"
      },
      "execution_count": 103,
      "outputs": [
        {
          "output_type": "stream",
          "name": "stdout",
          "text": [
            "+--------------------+-----------+----------+\n",
            "|      classification|Total_debit|Percentage|\n",
            "+--------------------+-----------+----------+\n",
            "|            Transfer|   10230.86|    29.08%|\n",
            "|               Check|     5153.0|    14.65%|\n",
            "|       Uncategorized|    4155.94|    11.81%|\n",
            "|                Cash|     3970.0|    11.29%|\n",
            "|           Groceries|    2960.24|     8.41%|\n",
            "|            Shopping|    1679.01|     4.77%|\n",
            "|           Education|    1330.47|     3.78%|\n",
            "|           Fast Food|     1032.2|     2.93%|\n",
            "|              Travel|     878.75|      2.5%|\n",
            "|Bills &amp; Utili...|      733.8|     2.09%|\n",
            "|        Coffee Shops|     467.45|     1.33%|\n",
            "|   Food &amp; Dining|     438.08|     1.25%|\n",
            "|          Air Travel|      400.6|     1.14%|\n",
            "|Rental Car &amp; ...|     375.59|     1.07%|\n",
            "|           Utilities|     241.76|     0.69%|\n",
            "|                Home|     232.83|     0.66%|\n",
            "|         Restaurants|     142.53|     0.41%|\n",
            "|  Alcohol &amp; Bars|     134.21|     0.38%|\n",
            "|   Business Services|       98.6|     0.28%|\n",
            "|            Clothing|      91.57|     0.26%|\n",
            "+--------------------+-----------+----------+\n",
            "\n"
          ]
        }
      ]
    }
  ]
}